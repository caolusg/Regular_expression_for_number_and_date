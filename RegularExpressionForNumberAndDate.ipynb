{
 "cells": [
  {
   "cell_type": "code",
   "execution_count": 1,
   "metadata": {
    "collapsed": true
   },
   "outputs": [],
   "source": [
    "import re\n",
    "import os"
   ]
  },
  {
   "cell_type": "markdown",
   "metadata": {},
   "source": [
    "Specify a directory for path below"
   ]
  },
  {
   "cell_type": "code",
   "execution_count": 2,
   "metadata": {
    "collapsed": true
   },
   "outputs": [],
   "source": [
    "path = \"C:\\\\Users\\\\username\\\\Desktop\\\\text\""
   ]
  },
  {
   "cell_type": "code",
   "execution_count": 3,
   "metadata": {
    "collapsed": false,
    "deletable": true,
    "editable": true
   },
   "outputs": [],
   "source": [
    "\n",
    "files= os.listdir(path)\n",
    "\n",
    "s = []\n",
    "\n",
    "def hasNumbers(inputString):\n",
    "    return any(char.isdigit() for char in inputString)\n",
    "\n",
    "def hasDate(inputString):\n",
    "    if ('年' in inputString) or ('月' in inputString) or ('日' in inputString):\n",
    "        return True\n",
    "    else:\n",
    "        return False    \n",
    "\n",
    "for file in files:    \n",
    "    if 'Reg' not in file:\n",
    "        f = open(path + \"/\" + file);\n",
    "        iter_f = iter(f);\n",
    "        str = \"\"\n",
    "        reg_str = \"\"       \n",
    "                \n",
    "        for line in iter_f:\n",
    "            str = str + line\n",
    "            \n",
    "        after_datetime_reg = ''\n",
    "        re_date_time = re.split(r\"(\\d+年\\d+月\\d+日|\\d+年\\d+月|\\d+月\\d+日|\\d+年|\\d+月|\\d+日)\", str)\n",
    "        \n",
    "        for re_item in  re_date_time:           \n",
    "            if hasDate(re_item) and len(re_item) < 20 :            \n",
    "                re_item = '[@' + re_item + '#datetime*]'                \n",
    "            after_datetime_reg = after_datetime_reg + re_item\n",
    "            \n",
    "            \n",
    "        after_reg_str = ''\n",
    "        \n",
    "        ll =  re.split(r\"(\\d+.\\d+%|\\d+.\\d+|\\d+%|\\d+)\", after_datetime_reg.decode('utf-8'))\n",
    "        previous_l = ''\n",
    "        for l in ll:            \n",
    "            if hasNumbers(l) and '[@' not in previous_l:\n",
    "                l = '[@' + l + '#number*]'\n",
    "            previous_l = l\n",
    "            after_reg_str = after_reg_str + l        \n",
    "        f.close()\n",
    "        \n",
    "        file_abs = path + \"\\\\\" +  \"Reg_\" + file        \n",
    "        with open(file_abs, 'w') as f:\n",
    "            f.write(after_reg_str.encode('utf-8'))"
   ]
  },
  {
   "cell_type": "code",
   "execution_count": null,
   "metadata": {
    "collapsed": true
   },
   "outputs": [],
   "source": []
  }
 ],
 "metadata": {
  "kernelspec": {
   "display_name": "Python 2",
   "language": "python",
   "name": "python2"
  },
  "language_info": {
   "codemirror_mode": {
    "name": "ipython",
    "version": 2
   },
   "file_extension": ".py",
   "mimetype": "text/x-python",
   "name": "python",
   "nbconvert_exporter": "python",
   "pygments_lexer": "ipython2",
   "version": "2.7.13"
  }
 },
 "nbformat": 4,
 "nbformat_minor": 2
}
